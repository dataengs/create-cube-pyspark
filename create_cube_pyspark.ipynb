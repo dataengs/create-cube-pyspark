{
  "nbformat": 4,
  "nbformat_minor": 0,
  "metadata": {
    "colab": {
      "name": "create-cube-pyspark.ipynb",
      "provenance": [],
      "collapsed_sections": [],
      "authorship_tag": "ABX9TyNzpgMozys+PtSbw95hHfGM",
      "include_colab_link": true
    },
    "kernelspec": {
      "name": "python3",
      "display_name": "Python 3"
    },
    "language_info": {
      "name": "python"
    }
  },
  "cells": [
    {
      "cell_type": "markdown",
      "metadata": {
        "id": "view-in-github",
        "colab_type": "text"
      },
      "source": [
        "<a href=\"https://colab.research.google.com/github/dataengs/create-cube-pyspark/blob/main/create_cube_pyspark.ipynb\" target=\"_parent\"><img src=\"https://colab.research.google.com/assets/colab-badge.svg\" alt=\"Open In Colab\"/></a>"
      ]
    },
    {
      "cell_type": "code",
      "metadata": {
        "id": "xTNEN61ACy6X"
      },
      "source": [
        "pip install pyspark"
      ],
      "execution_count": null,
      "outputs": []
    },
    {
      "cell_type": "code",
      "metadata": {
        "id": "DtAFEHh4DdbV"
      },
      "source": [
        "#importa bibliotecas\n",
        "from pyspark.sql import SparkSession\n",
        "from pyspark.sql.types import StructType, StructField, StringType, IntegerType"
      ],
      "execution_count": 4,
      "outputs": []
    },
    {
      "cell_type": "code",
      "metadata": {
        "id": "Qna8VPC1Dqx2"
      },
      "source": [
        "#cria sessao spark\n",
        "spark = SparkSession.builder.appName('CreateMyCube').getOrCreate()"
      ],
      "execution_count": 5,
      "outputs": []
    },
    {
      "cell_type": "code",
      "metadata": {
        "colab": {
          "base_uri": "https://localhost:8080/"
        },
        "id": "mVtOe6s8Dvzn",
        "outputId": "e6aa51cf-ee74-448c-8e73-cd941470302e"
      },
      "source": [
        "data = [(\"Padaria\", \"Marcos\", 0), \n",
        "        (\"Bebidas\", \"Sebastian\", 3),\n",
        "        (\"Bebidas\", \"Marcos\", 2),\n",
        "        (\"Hortifruti\", \"Fred\", 10),\n",
        "        (\"Higiene pessoal\", \"Fred\", 2),\n",
        "        (\"Padaria\", \"Fred\", 0), \n",
        "        (\"Bebidas\", \"Silva\", 5), \n",
        "        (\"Hortifruti\", \"Sebastian\", 7)\n",
        "       ]\n",
        "\n",
        "#cria um schema manual para criar o dataframe\n",
        "schema = StructType([\n",
        "            StructField(\"Categoria\", StringType(), True),\n",
        "            StructField(\"Vendedor\", StringType(), True),\n",
        "            StructField(\"QtdVendas\", IntegerType(), True)\n",
        "        ])\n",
        "\n",
        "#cria um spark dataframe \n",
        "df = spark.createDataFrame(data=data,schema=schema)\n",
        "#exibe schema\n",
        "df.printSchema()\n",
        "#exibe os dados de forma vertical\n",
        "df.show(truncate=False)"
      ],
      "execution_count": 6,
      "outputs": [
        {
          "output_type": "stream",
          "name": "stdout",
          "text": [
            "root\n",
            " |-- Categoria: string (nullable = true)\n",
            " |-- Vendedor: string (nullable = true)\n",
            " |-- QtdVendas: integer (nullable = true)\n",
            "\n",
            "+---------------+---------+---------+\n",
            "|Categoria      |Vendedor |QtdVendas|\n",
            "+---------------+---------+---------+\n",
            "|Padaria        |Marcos   |0        |\n",
            "|Bebidas        |Sebastian|3        |\n",
            "|Bebidas        |Marcos   |2        |\n",
            "|Hortifruti     |Fred     |10       |\n",
            "|Higiene pessoal|Fred     |2        |\n",
            "|Padaria        |Fred     |0        |\n",
            "|Bebidas        |Silva    |5        |\n",
            "|Hortifruti     |Sebastian|7        |\n",
            "+---------------+---------+---------+\n",
            "\n"
          ]
        }
      ]
    },
    {
      "cell_type": "code",
      "metadata": {
        "colab": {
          "base_uri": "https://localhost:8080/"
        },
        "id": "mfexSa9pLhiV",
        "outputId": "0e1b52ca-7ed0-4673-c118-db192b85e2dc"
      },
      "source": [
        "#Aplicando a função cube, temos o seguinte resultado\n",
        "df.cube(\"Categoria\", \"Vendedor\") \\\n",
        "  .sum() \\\n",
        "  .orderBy(\"Categoria\", \"Vendedor\") \\\n",
        "  .show()"
      ],
      "execution_count": 7,
      "outputs": [
        {
          "output_type": "stream",
          "name": "stdout",
          "text": [
            "+---------------+---------+--------------+\n",
            "|      Categoria| Vendedor|sum(QtdVendas)|\n",
            "+---------------+---------+--------------+\n",
            "|           null|     null|            29|\n",
            "|           null|     Fred|            12|\n",
            "|           null|   Marcos|             2|\n",
            "|           null|Sebastian|            10|\n",
            "|           null|    Silva|             5|\n",
            "|        Bebidas|     null|            10|\n",
            "|        Bebidas|   Marcos|             2|\n",
            "|        Bebidas|Sebastian|             3|\n",
            "|        Bebidas|    Silva|             5|\n",
            "|Higiene pessoal|     null|             2|\n",
            "|Higiene pessoal|     Fred|             2|\n",
            "|     Hortifruti|     null|            17|\n",
            "|     Hortifruti|     Fred|            10|\n",
            "|     Hortifruti|Sebastian|             7|\n",
            "|        Padaria|     null|             0|\n",
            "|        Padaria|     Fred|             0|\n",
            "|        Padaria|   Marcos|             0|\n",
            "+---------------+---------+--------------+\n",
            "\n"
          ]
        }
      ]
    }
  ]
}